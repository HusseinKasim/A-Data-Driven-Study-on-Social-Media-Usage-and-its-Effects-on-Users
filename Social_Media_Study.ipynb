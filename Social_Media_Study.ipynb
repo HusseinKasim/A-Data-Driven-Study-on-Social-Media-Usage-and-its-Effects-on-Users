{
  "metadata": {
    "kernelspec": {
      "name": "python",
      "display_name": "Python (Pyodide)",
      "language": "python"
    },
    "language_info": {
      "codemirror_mode": {
        "name": "python",
        "version": 3
      },
      "file_extension": ".py",
      "mimetype": "text/x-python",
      "name": "python",
      "nbconvert_exporter": "python",
      "pygments_lexer": "ipython3",
      "version": "3.8"
    }
  },
  "nbformat_minor": 5,
  "nbformat": 4,
  "cells": [
    {
      "id": "da5cab16-defc-44ca-b819-27cbc922b64e",
      "cell_type": "markdown",
      "source": "# A Data-Driven Study on Social Media Usage and its Effects on Users",
      "metadata": {}
    },
    {
      "id": "e66a3f9e-fba1-4e69-8662-fa9089d0adb5",
      "cell_type": "markdown",
      "source": "## Introduction",
      "metadata": {}
    },
    {
      "id": "05a32479-8011-4ad4-aeae-1a3c1f64bc5b",
      "cell_type": "markdown",
      "source": "In this study, I will use a dataset found publicly on Kaggle to analyze data concerning social media and its effect on productivity, burnout, and stress.\n\nThe first step of this study is to perform a general Exploratory Data Analysis (EDA) of the dataset. Specific areas of interest, derived from glancing over the data provided, include:\n\n1. Understanding how social media usage and burnout are related.\n2. Understanding how social media usage and changes in stress levels are related.\n3. Understanding how social media usage and changes in productivity are related.\n4. Understanding how social media usage before bed affects sleep quality.\n5. Understanding which age groups are more prone to the effects of social media.\n6. Understanding which gender is more prone to the effects of social media.\n7. Understanding which social media platforms impact users the most.\n\nBased on the insights from the analysis, I will determine which points are relevant to the creation of a machine learning model that predicts user outcomes and behaviors associated with social media usage.",
      "metadata": {}
    },
    {
      "id": "272be29f-6477-45a5-866a-afa9b89d11b7",
      "cell_type": "markdown",
      "source": "The dataset used for this study can be found publicly on Kaggle.com at (https://www.kaggle.com/datasets/mahdimashayekhi/social-media-vs-productivity?resource=download)",
      "metadata": {}
    },
    {
      "id": "f4c243b5-0577-4dd1-b240-4b3e78e2a526",
      "cell_type": "markdown",
      "source": "## Exploratory Data Analysis",
      "metadata": {}
    },
    {
      "id": "bc512b86-e788-4d6c-a8c9-04641129dc3a",
      "cell_type": "code",
      "source": "import pandas as pd\nimport numpy as np",
      "metadata": {
        "trusted": true
      },
      "outputs": [],
      "execution_count": 2
    },
    {
      "id": "77fc9327-d4a3-4988-971e-27390802a4fe",
      "cell_type": "code",
      "source": "df = pd.read_csv(\"social_media_vs_productivity.csv\")\ndf",
      "metadata": {
        "trusted": true
      },
      "outputs": [
        {
          "execution_count": 7,
          "output_type": "execute_result",
          "data": {
            "text/plain": "       age  gender    job_type  daily_social_media_time  \\\n0       56    Male  Unemployed                 4.180940   \n1       46    Male      Health                 3.249603   \n2       32    Male     Finance                      NaN   \n3       60  Female  Unemployed                      NaN   \n4       25    Male          IT                      NaN   \n...    ...     ...         ...                      ...   \n29995   34  Female      Health                 1.877297   \n29996   39    Male      Health                 4.437784   \n29997   42    Male   Education                17.724981   \n29998   20  Female   Education                 3.796634   \n29999   44    Male  Unemployed                      NaN   \n\n      social_platform_preference  number_of_notifications  work_hours_per_day  \\\n0                       Facebook                       61            6.753558   \n1                        Twitter                       59            9.169296   \n2                        Twitter                       57            7.910952   \n3                       Facebook                       59            6.355027   \n4                       Telegram                       66            6.214096   \n...                          ...                      ...                 ...   \n29995                   Facebook                       59           10.226358   \n29996                  Instagram                       46            4.692862   \n29997                     TikTok                       64           10.915036   \n29998                  Instagram                       56            6.937410   \n29999                    Twitter                       70            8.069883   \n\n       perceived_productivity_score  actual_productivity_score  stress_level  \\\n0                          8.040464                   7.291555           4.0   \n1                          5.063368                   5.165093           7.0   \n2                          3.861762                   3.474053           4.0   \n3                          2.916331                   1.774869           6.0   \n4                          8.868753                        NaN           7.0   \n...                             ...                        ...           ...   \n29995                      3.348512                   3.465815           8.0   \n29996                      8.133213                   6.659294           8.0   \n29997                      8.611005                   8.658912           5.0   \n29998                      7.767076                   6.895583           8.0   \n29999                      6.311227                   5.402726           3.0   \n\n       sleep_hours  screen_time_before_sleep  breaks_during_work  \\\n0         5.116546                  0.419102                   8   \n1         5.103897                  0.671519                   7   \n2         8.583222                  0.624378                   0   \n3         6.052984                  1.204540                   1   \n4         5.405706                  1.876254                   1   \n...            ...                       ...                 ...   \n29995     5.480462                  1.412655                   9   \n29996     3.045393                  0.148936                   3   \n29997     5.491520                  1.224296                  10   \n29998     6.816069                  0.234483                   1   \n29999     6.765248                  0.993090                   5   \n\n       uses_focus_apps  has_digital_wellbeing_enabled  \\\n0                False                          False   \n1                 True                           True   \n2                 True                          False   \n3                False                          False   \n4                False                           True   \n...                ...                            ...   \n29995            False                          False   \n29996            False                          False   \n29997            False                          False   \n29998            False                          False   \n29999            False                           True   \n\n       coffee_consumption_per_day  days_feeling_burnout_per_month  \\\n0                               4                              11   \n1                               2                              25   \n2                               3                              17   \n3                               0                               4   \n4                               1                              30   \n...                           ...                             ...   \n29995                           4                               5   \n29996                           1                              29   \n29997                           1                               2   \n29998                           2                               9   \n29999                           1                               4   \n\n       weekly_offline_hours  job_satisfaction_score  \n0                 21.927072                6.336688  \n1                  0.000000                3.412427  \n2                 10.322044                2.474944  \n3                 23.876616                1.733670  \n4                 10.653519                9.693060  \n...                     ...                     ...  \n29995             21.776927                     NaN  \n29996              4.111370                6.155613  \n29997              1.888315                6.285237  \n29998             12.511871                7.854711  \n29999              6.324954                7.388790  \n\n[30000 rows x 19 columns]",
            "text/html": "<div>\n<style scoped>\n    .dataframe tbody tr th:only-of-type {\n        vertical-align: middle;\n    }\n\n    .dataframe tbody tr th {\n        vertical-align: top;\n    }\n\n    .dataframe thead th {\n        text-align: right;\n    }\n</style>\n<table border=\"1\" class=\"dataframe\">\n  <thead>\n    <tr style=\"text-align: right;\">\n      <th></th>\n      <th>age</th>\n      <th>gender</th>\n      <th>job_type</th>\n      <th>daily_social_media_time</th>\n      <th>social_platform_preference</th>\n      <th>number_of_notifications</th>\n      <th>work_hours_per_day</th>\n      <th>perceived_productivity_score</th>\n      <th>actual_productivity_score</th>\n      <th>stress_level</th>\n      <th>sleep_hours</th>\n      <th>screen_time_before_sleep</th>\n      <th>breaks_during_work</th>\n      <th>uses_focus_apps</th>\n      <th>has_digital_wellbeing_enabled</th>\n      <th>coffee_consumption_per_day</th>\n      <th>days_feeling_burnout_per_month</th>\n      <th>weekly_offline_hours</th>\n      <th>job_satisfaction_score</th>\n    </tr>\n  </thead>\n  <tbody>\n    <tr>\n      <th>0</th>\n      <td>56</td>\n      <td>Male</td>\n      <td>Unemployed</td>\n      <td>4.180940</td>\n      <td>Facebook</td>\n      <td>61</td>\n      <td>6.753558</td>\n      <td>8.040464</td>\n      <td>7.291555</td>\n      <td>4.0</td>\n      <td>5.116546</td>\n      <td>0.419102</td>\n      <td>8</td>\n      <td>False</td>\n      <td>False</td>\n      <td>4</td>\n      <td>11</td>\n      <td>21.927072</td>\n      <td>6.336688</td>\n    </tr>\n    <tr>\n      <th>1</th>\n      <td>46</td>\n      <td>Male</td>\n      <td>Health</td>\n      <td>3.249603</td>\n      <td>Twitter</td>\n      <td>59</td>\n      <td>9.169296</td>\n      <td>5.063368</td>\n      <td>5.165093</td>\n      <td>7.0</td>\n      <td>5.103897</td>\n      <td>0.671519</td>\n      <td>7</td>\n      <td>True</td>\n      <td>True</td>\n      <td>2</td>\n      <td>25</td>\n      <td>0.000000</td>\n      <td>3.412427</td>\n    </tr>\n    <tr>\n      <th>2</th>\n      <td>32</td>\n      <td>Male</td>\n      <td>Finance</td>\n      <td>NaN</td>\n      <td>Twitter</td>\n      <td>57</td>\n      <td>7.910952</td>\n      <td>3.861762</td>\n      <td>3.474053</td>\n      <td>4.0</td>\n      <td>8.583222</td>\n      <td>0.624378</td>\n      <td>0</td>\n      <td>True</td>\n      <td>False</td>\n      <td>3</td>\n      <td>17</td>\n      <td>10.322044</td>\n      <td>2.474944</td>\n    </tr>\n    <tr>\n      <th>3</th>\n      <td>60</td>\n      <td>Female</td>\n      <td>Unemployed</td>\n      <td>NaN</td>\n      <td>Facebook</td>\n      <td>59</td>\n      <td>6.355027</td>\n      <td>2.916331</td>\n      <td>1.774869</td>\n      <td>6.0</td>\n      <td>6.052984</td>\n      <td>1.204540</td>\n      <td>1</td>\n      <td>False</td>\n      <td>False</td>\n      <td>0</td>\n      <td>4</td>\n      <td>23.876616</td>\n      <td>1.733670</td>\n    </tr>\n    <tr>\n      <th>4</th>\n      <td>25</td>\n      <td>Male</td>\n      <td>IT</td>\n      <td>NaN</td>\n      <td>Telegram</td>\n      <td>66</td>\n      <td>6.214096</td>\n      <td>8.868753</td>\n      <td>NaN</td>\n      <td>7.0</td>\n      <td>5.405706</td>\n      <td>1.876254</td>\n      <td>1</td>\n      <td>False</td>\n      <td>True</td>\n      <td>1</td>\n      <td>30</td>\n      <td>10.653519</td>\n      <td>9.693060</td>\n    </tr>\n    <tr>\n      <th>...</th>\n      <td>...</td>\n      <td>...</td>\n      <td>...</td>\n      <td>...</td>\n      <td>...</td>\n      <td>...</td>\n      <td>...</td>\n      <td>...</td>\n      <td>...</td>\n      <td>...</td>\n      <td>...</td>\n      <td>...</td>\n      <td>...</td>\n      <td>...</td>\n      <td>...</td>\n      <td>...</td>\n      <td>...</td>\n      <td>...</td>\n      <td>...</td>\n    </tr>\n    <tr>\n      <th>29995</th>\n      <td>34</td>\n      <td>Female</td>\n      <td>Health</td>\n      <td>1.877297</td>\n      <td>Facebook</td>\n      <td>59</td>\n      <td>10.226358</td>\n      <td>3.348512</td>\n      <td>3.465815</td>\n      <td>8.0</td>\n      <td>5.480462</td>\n      <td>1.412655</td>\n      <td>9</td>\n      <td>False</td>\n      <td>False</td>\n      <td>4</td>\n      <td>5</td>\n      <td>21.776927</td>\n      <td>NaN</td>\n    </tr>\n    <tr>\n      <th>29996</th>\n      <td>39</td>\n      <td>Male</td>\n      <td>Health</td>\n      <td>4.437784</td>\n      <td>Instagram</td>\n      <td>46</td>\n      <td>4.692862</td>\n      <td>8.133213</td>\n      <td>6.659294</td>\n      <td>8.0</td>\n      <td>3.045393</td>\n      <td>0.148936</td>\n      <td>3</td>\n      <td>False</td>\n      <td>False</td>\n      <td>1</td>\n      <td>29</td>\n      <td>4.111370</td>\n      <td>6.155613</td>\n    </tr>\n    <tr>\n      <th>29997</th>\n      <td>42</td>\n      <td>Male</td>\n      <td>Education</td>\n      <td>17.724981</td>\n      <td>TikTok</td>\n      <td>64</td>\n      <td>10.915036</td>\n      <td>8.611005</td>\n      <td>8.658912</td>\n      <td>5.0</td>\n      <td>5.491520</td>\n      <td>1.224296</td>\n      <td>10</td>\n      <td>False</td>\n      <td>False</td>\n      <td>1</td>\n      <td>2</td>\n      <td>1.888315</td>\n      <td>6.285237</td>\n    </tr>\n    <tr>\n      <th>29998</th>\n      <td>20</td>\n      <td>Female</td>\n      <td>Education</td>\n      <td>3.796634</td>\n      <td>Instagram</td>\n      <td>56</td>\n      <td>6.937410</td>\n      <td>7.767076</td>\n      <td>6.895583</td>\n      <td>8.0</td>\n      <td>6.816069</td>\n      <td>0.234483</td>\n      <td>1</td>\n      <td>False</td>\n      <td>False</td>\n      <td>2</td>\n      <td>9</td>\n      <td>12.511871</td>\n      <td>7.854711</td>\n    </tr>\n    <tr>\n      <th>29999</th>\n      <td>44</td>\n      <td>Male</td>\n      <td>Unemployed</td>\n      <td>NaN</td>\n      <td>Twitter</td>\n      <td>70</td>\n      <td>8.069883</td>\n      <td>6.311227</td>\n      <td>5.402726</td>\n      <td>3.0</td>\n      <td>6.765248</td>\n      <td>0.993090</td>\n      <td>5</td>\n      <td>False</td>\n      <td>True</td>\n      <td>1</td>\n      <td>4</td>\n      <td>6.324954</td>\n      <td>7.388790</td>\n    </tr>\n  </tbody>\n</table>\n<p>30000 rows × 19 columns</p>\n</div>"
          },
          "metadata": {}
        }
      ],
      "execution_count": 7
    },
    {
      "id": "962a001c-cedd-4d18-936e-687224e2a7cf",
      "cell_type": "code",
      "source": "df.info()",
      "metadata": {
        "trusted": true
      },
      "outputs": [
        {
          "name": "stdout",
          "output_type": "stream",
          "text": "<class 'pandas.core.frame.DataFrame'>\nRangeIndex: 30000 entries, 0 to 29999\nData columns (total 19 columns):\n #   Column                          Non-Null Count  Dtype  \n---  ------                          --------------  -----  \n 0   age                             30000 non-null  int64  \n 1   gender                          30000 non-null  object \n 2   job_type                        30000 non-null  object \n 3   daily_social_media_time         27235 non-null  float64\n 4   social_platform_preference      30000 non-null  object \n 5   number_of_notifications         30000 non-null  int64  \n 6   work_hours_per_day              30000 non-null  float64\n 7   perceived_productivity_score    28386 non-null  float64\n 8   actual_productivity_score       27635 non-null  float64\n 9   stress_level                    28096 non-null  float64\n 10  sleep_hours                     27402 non-null  float64\n 11  screen_time_before_sleep        27789 non-null  float64\n 12  breaks_during_work              30000 non-null  int64  \n 13  uses_focus_apps                 30000 non-null  bool   \n 14  has_digital_wellbeing_enabled   30000 non-null  bool   \n 15  coffee_consumption_per_day      30000 non-null  int64  \n 16  days_feeling_burnout_per_month  30000 non-null  int64  \n 17  weekly_offline_hours            30000 non-null  float64\n 18  job_satisfaction_score          27270 non-null  float64\ndtypes: bool(2), float64(9), int64(5), object(3)\nmemory usage: 3.6+ MB\n"
        }
      ],
      "execution_count": 5
    },
    {
      "id": "59758a9f-0d35-41b9-bcda-c4587144b698",
      "cell_type": "code",
      "source": "df.shape",
      "metadata": {
        "trusted": true
      },
      "outputs": [
        {
          "execution_count": 10,
          "output_type": "execute_result",
          "data": {
            "text/plain": "(30000, 19)"
          },
          "metadata": {}
        }
      ],
      "execution_count": 10
    },
    {
      "id": "4721712c-da60-4525-b764-227e099c76ea",
      "cell_type": "code",
      "source": "df.describe()",
      "metadata": {
        "trusted": true
      },
      "outputs": [
        {
          "execution_count": 9,
          "output_type": "execute_result",
          "data": {
            "text/plain": "                age  daily_social_media_time  number_of_notifications  \\\ncount  30000.000000             27235.000000             30000.000000   \nmean      41.486867                 3.113418                59.958767   \nstd       13.835221                 2.074813                 7.723772   \nmin       18.000000                 0.000000                30.000000   \n25%       30.000000                 1.639566                55.000000   \n50%       41.000000                 3.025913                60.000000   \n75%       53.000000                 4.368917                65.000000   \nmax       65.000000                17.973256                90.000000   \n\n       work_hours_per_day  perceived_productivity_score  \\\ncount        30000.000000                  28386.000000   \nmean             6.990792                      5.510488   \nstd              1.997736                      2.023470   \nmin              0.000000                      2.000252   \n25%              5.643771                      3.757861   \n50%              6.990641                      5.525005   \n75%              8.354725                      7.265776   \nmax             12.000000                      8.999376   \n\n       actual_productivity_score  stress_level   sleep_hours  \\\ncount               27635.000000  28096.000000  27402.000000   \nmean                    4.951805      5.514059      6.500247   \nstd                     1.883378      2.866344      1.464004   \nmin                     0.296812      1.000000      3.000000   \n25%                     3.373284      3.000000      5.493536   \n50%                     4.951742      6.000000      6.498340   \n75%                     6.526342      8.000000      7.504143   \nmax                     9.846258     10.000000     10.000000   \n\n       screen_time_before_sleep  breaks_during_work  \\\ncount              27789.000000        30000.000000   \nmean                   1.025568            4.992200   \nstd                    0.653355            3.173737   \nmin                    0.000000            0.000000   \n25%                    0.528490            2.000000   \n50%                    1.006159            5.000000   \n75%                    1.477221            8.000000   \nmax                    3.000000           10.000000   \n\n       coffee_consumption_per_day  days_feeling_burnout_per_month  \\\ncount                30000.000000                    30000.000000   \nmean                     1.999300                       15.557067   \nstd                      1.410047                        9.252956   \nmin                      0.000000                        0.000000   \n25%                      1.000000                        8.000000   \n50%                      2.000000                       16.000000   \n75%                      3.000000                       24.000000   \nmax                     10.000000                       31.000000   \n\n       weekly_offline_hours  job_satisfaction_score  \ncount          30000.000000            27270.000000  \nmean              10.360655                4.964901  \nstd                7.280415                2.121194  \nmin                0.000000                0.000000  \n25%                4.541872                3.363580  \n50%               10.013677                4.951049  \n75%               15.300809                6.581323  \nmax               40.964769               10.000000  ",
            "text/html": "<div>\n<style scoped>\n    .dataframe tbody tr th:only-of-type {\n        vertical-align: middle;\n    }\n\n    .dataframe tbody tr th {\n        vertical-align: top;\n    }\n\n    .dataframe thead th {\n        text-align: right;\n    }\n</style>\n<table border=\"1\" class=\"dataframe\">\n  <thead>\n    <tr style=\"text-align: right;\">\n      <th></th>\n      <th>age</th>\n      <th>daily_social_media_time</th>\n      <th>number_of_notifications</th>\n      <th>work_hours_per_day</th>\n      <th>perceived_productivity_score</th>\n      <th>actual_productivity_score</th>\n      <th>stress_level</th>\n      <th>sleep_hours</th>\n      <th>screen_time_before_sleep</th>\n      <th>breaks_during_work</th>\n      <th>coffee_consumption_per_day</th>\n      <th>days_feeling_burnout_per_month</th>\n      <th>weekly_offline_hours</th>\n      <th>job_satisfaction_score</th>\n    </tr>\n  </thead>\n  <tbody>\n    <tr>\n      <th>count</th>\n      <td>30000.000000</td>\n      <td>27235.000000</td>\n      <td>30000.000000</td>\n      <td>30000.000000</td>\n      <td>28386.000000</td>\n      <td>27635.000000</td>\n      <td>28096.000000</td>\n      <td>27402.000000</td>\n      <td>27789.000000</td>\n      <td>30000.000000</td>\n      <td>30000.000000</td>\n      <td>30000.000000</td>\n      <td>30000.000000</td>\n      <td>27270.000000</td>\n    </tr>\n    <tr>\n      <th>mean</th>\n      <td>41.486867</td>\n      <td>3.113418</td>\n      <td>59.958767</td>\n      <td>6.990792</td>\n      <td>5.510488</td>\n      <td>4.951805</td>\n      <td>5.514059</td>\n      <td>6.500247</td>\n      <td>1.025568</td>\n      <td>4.992200</td>\n      <td>1.999300</td>\n      <td>15.557067</td>\n      <td>10.360655</td>\n      <td>4.964901</td>\n    </tr>\n    <tr>\n      <th>std</th>\n      <td>13.835221</td>\n      <td>2.074813</td>\n      <td>7.723772</td>\n      <td>1.997736</td>\n      <td>2.023470</td>\n      <td>1.883378</td>\n      <td>2.866344</td>\n      <td>1.464004</td>\n      <td>0.653355</td>\n      <td>3.173737</td>\n      <td>1.410047</td>\n      <td>9.252956</td>\n      <td>7.280415</td>\n      <td>2.121194</td>\n    </tr>\n    <tr>\n      <th>min</th>\n      <td>18.000000</td>\n      <td>0.000000</td>\n      <td>30.000000</td>\n      <td>0.000000</td>\n      <td>2.000252</td>\n      <td>0.296812</td>\n      <td>1.000000</td>\n      <td>3.000000</td>\n      <td>0.000000</td>\n      <td>0.000000</td>\n      <td>0.000000</td>\n      <td>0.000000</td>\n      <td>0.000000</td>\n      <td>0.000000</td>\n    </tr>\n    <tr>\n      <th>25%</th>\n      <td>30.000000</td>\n      <td>1.639566</td>\n      <td>55.000000</td>\n      <td>5.643771</td>\n      <td>3.757861</td>\n      <td>3.373284</td>\n      <td>3.000000</td>\n      <td>5.493536</td>\n      <td>0.528490</td>\n      <td>2.000000</td>\n      <td>1.000000</td>\n      <td>8.000000</td>\n      <td>4.541872</td>\n      <td>3.363580</td>\n    </tr>\n    <tr>\n      <th>50%</th>\n      <td>41.000000</td>\n      <td>3.025913</td>\n      <td>60.000000</td>\n      <td>6.990641</td>\n      <td>5.525005</td>\n      <td>4.951742</td>\n      <td>6.000000</td>\n      <td>6.498340</td>\n      <td>1.006159</td>\n      <td>5.000000</td>\n      <td>2.000000</td>\n      <td>16.000000</td>\n      <td>10.013677</td>\n      <td>4.951049</td>\n    </tr>\n    <tr>\n      <th>75%</th>\n      <td>53.000000</td>\n      <td>4.368917</td>\n      <td>65.000000</td>\n      <td>8.354725</td>\n      <td>7.265776</td>\n      <td>6.526342</td>\n      <td>8.000000</td>\n      <td>7.504143</td>\n      <td>1.477221</td>\n      <td>8.000000</td>\n      <td>3.000000</td>\n      <td>24.000000</td>\n      <td>15.300809</td>\n      <td>6.581323</td>\n    </tr>\n    <tr>\n      <th>max</th>\n      <td>65.000000</td>\n      <td>17.973256</td>\n      <td>90.000000</td>\n      <td>12.000000</td>\n      <td>8.999376</td>\n      <td>9.846258</td>\n      <td>10.000000</td>\n      <td>10.000000</td>\n      <td>3.000000</td>\n      <td>10.000000</td>\n      <td>10.000000</td>\n      <td>31.000000</td>\n      <td>40.964769</td>\n      <td>10.000000</td>\n    </tr>\n  </tbody>\n</table>\n</div>"
          },
          "metadata": {}
        }
      ],
      "execution_count": 9
    }
  ]
}